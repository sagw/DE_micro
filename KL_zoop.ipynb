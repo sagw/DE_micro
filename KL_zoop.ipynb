{
 "cells": [
  {
   "cell_type": "code",
   "execution_count": 1,
   "metadata": {
    "scrolled": true
   },
   "outputs": [
    {
     "name": "stderr",
     "output_type": "stream",
     "text": [
      "Loading required package: dada2\n",
      "\n",
      "Loading required package: Rcpp\n",
      "\n"
     ]
    }
   ],
   "source": [
    "require(dada2)"
   ]
  },
  {
   "cell_type": "code",
   "execution_count": 4,
   "metadata": {
    "scrolled": false
   },
   "outputs": [
    {
     "data": {
      "text/html": [
       "<style>\n",
       ".list-inline {list-style: none; margin:0; padding: 0}\n",
       ".list-inline>li {display: inline-block}\n",
       ".list-inline>li:not(:last-child)::after {content: \"\\00b7\"; padding: 0 .5ex}\n",
       "</style>\n",
       "<ol class=list-inline><li>'1-Cobb-1_S74_L001_R1_001.fastq'</li><li>'1-Cobb-1_S74_L001_R2_001.fastq'</li><li>'1-Cobb-2_S75_L001_R1_001.fastq'</li><li>'1-Cobb-2_S75_L001_R2_001.fastq'</li><li>'2-Hung-1_S76_L001_R1_001.fastq'</li><li>'2-Hung-1_S76_L001_R2_001.fastq'</li><li>'2-Hung-2_S77_L001_R1_001.fastq'</li><li>'2-Hung-2_S77_L001_R2_001.fastq'</li><li>'3-Cobb-1_S78_L001_R1_001.fastq'</li><li>'3-Cobb-1_S78_L001_R2_001.fastq'</li><li>'3-Cobb-2_S79_L001_R1_001.fastq'</li><li>'3-Cobb-2_S79_L001_R2_001.fastq'</li><li>'4-Cobb-1_S80_L001_R1_001.fastq'</li><li>'4-Cobb-1_S80_L001_R2_001.fastq'</li><li>'4-Cobb-2_S81_L001_R1_001.fastq'</li><li>'4-Cobb-2_S81_L001_R2_001.fastq'</li></ol>\n"
      ],
      "text/latex": [
       "\\begin{enumerate*}\n",
       "\\item '1-Cobb-1\\_S74\\_L001\\_R1\\_001.fastq'\n",
       "\\item '1-Cobb-1\\_S74\\_L001\\_R2\\_001.fastq'\n",
       "\\item '1-Cobb-2\\_S75\\_L001\\_R1\\_001.fastq'\n",
       "\\item '1-Cobb-2\\_S75\\_L001\\_R2\\_001.fastq'\n",
       "\\item '2-Hung-1\\_S76\\_L001\\_R1\\_001.fastq'\n",
       "\\item '2-Hung-1\\_S76\\_L001\\_R2\\_001.fastq'\n",
       "\\item '2-Hung-2\\_S77\\_L001\\_R1\\_001.fastq'\n",
       "\\item '2-Hung-2\\_S77\\_L001\\_R2\\_001.fastq'\n",
       "\\item '3-Cobb-1\\_S78\\_L001\\_R1\\_001.fastq'\n",
       "\\item '3-Cobb-1\\_S78\\_L001\\_R2\\_001.fastq'\n",
       "\\item '3-Cobb-2\\_S79\\_L001\\_R1\\_001.fastq'\n",
       "\\item '3-Cobb-2\\_S79\\_L001\\_R2\\_001.fastq'\n",
       "\\item '4-Cobb-1\\_S80\\_L001\\_R1\\_001.fastq'\n",
       "\\item '4-Cobb-1\\_S80\\_L001\\_R2\\_001.fastq'\n",
       "\\item '4-Cobb-2\\_S81\\_L001\\_R1\\_001.fastq'\n",
       "\\item '4-Cobb-2\\_S81\\_L001\\_R2\\_001.fastq'\n",
       "\\end{enumerate*}\n"
      ],
      "text/markdown": [
       "1. '1-Cobb-1_S74_L001_R1_001.fastq'\n",
       "2. '1-Cobb-1_S74_L001_R2_001.fastq'\n",
       "3. '1-Cobb-2_S75_L001_R1_001.fastq'\n",
       "4. '1-Cobb-2_S75_L001_R2_001.fastq'\n",
       "5. '2-Hung-1_S76_L001_R1_001.fastq'\n",
       "6. '2-Hung-1_S76_L001_R2_001.fastq'\n",
       "7. '2-Hung-2_S77_L001_R1_001.fastq'\n",
       "8. '2-Hung-2_S77_L001_R2_001.fastq'\n",
       "9. '3-Cobb-1_S78_L001_R1_001.fastq'\n",
       "10. '3-Cobb-1_S78_L001_R2_001.fastq'\n",
       "11. '3-Cobb-2_S79_L001_R1_001.fastq'\n",
       "12. '3-Cobb-2_S79_L001_R2_001.fastq'\n",
       "13. '4-Cobb-1_S80_L001_R1_001.fastq'\n",
       "14. '4-Cobb-1_S80_L001_R2_001.fastq'\n",
       "15. '4-Cobb-2_S81_L001_R1_001.fastq'\n",
       "16. '4-Cobb-2_S81_L001_R2_001.fastq'\n",
       "\n",
       "\n"
      ],
      "text/plain": [
       " [1] \"1-Cobb-1_S74_L001_R1_001.fastq\" \"1-Cobb-1_S74_L001_R2_001.fastq\"\n",
       " [3] \"1-Cobb-2_S75_L001_R1_001.fastq\" \"1-Cobb-2_S75_L001_R2_001.fastq\"\n",
       " [5] \"2-Hung-1_S76_L001_R1_001.fastq\" \"2-Hung-1_S76_L001_R2_001.fastq\"\n",
       " [7] \"2-Hung-2_S77_L001_R1_001.fastq\" \"2-Hung-2_S77_L001_R2_001.fastq\"\n",
       " [9] \"3-Cobb-1_S78_L001_R1_001.fastq\" \"3-Cobb-1_S78_L001_R2_001.fastq\"\n",
       "[11] \"3-Cobb-2_S79_L001_R1_001.fastq\" \"3-Cobb-2_S79_L001_R2_001.fastq\"\n",
       "[13] \"4-Cobb-1_S80_L001_R1_001.fastq\" \"4-Cobb-1_S80_L001_R2_001.fastq\"\n",
       "[15] \"4-Cobb-2_S81_L001_R1_001.fastq\" \"4-Cobb-2_S81_L001_R2_001.fastq\""
      ]
     },
     "metadata": {},
     "output_type": "display_data"
    }
   ],
   "source": [
    "path <- \"~/Documents/KL_seqs/unfiltered\" #directory with the fastq files after unzipping\n",
    "list.files(path)"
   ]
  },
  {
   "cell_type": "code",
   "execution_count": 5,
   "metadata": {},
   "outputs": [],
   "source": [
    "# Forward and reverse fastq filenames have format: SAMPLENAME_R1_001.fastq and SAMPLENAME_R2_001.fastq\n",
    "fnFs <- sort(list.files(path, pattern=\"_R1_001.fastq\", full.names = TRUE))\n",
    "fnRs <- sort(list.files(path, pattern=\"_R2_001.fastq\", full.names = TRUE))"
   ]
  },
  {
   "cell_type": "code",
   "execution_count": 6,
   "metadata": {},
   "outputs": [],
   "source": [
    "# Extract sample names, assuming filenames have format: SAMPLENAME_XXX.fastq\n",
    "sample.names <- sapply(strsplit(basename(fnFs), \"_\"), `[`, 1)\n"
   ]
  },
  {
   "cell_type": "code",
   "execution_count": 7,
   "metadata": {
    "scrolled": true
   },
   "outputs": [
    {
     "name": "stderr",
     "output_type": "stream",
     "text": [
      "Creating output directory: /home/eholum/Documents/KL_seqs/unfiltered/filtN\n",
      "\n"
     ]
    }
   ],
   "source": [
    "#filtering to remove just the Ns from sequences (not other filtering)\n",
    "fnFs.filtN <- file.path(path, \"filtN\", basename(fnFs)) # Put N-filterd files in filtN/ subdirectory\n",
    "fnRs.filtN <- file.path(path, \"filtN\", basename(fnRs))\n",
    "filterAndTrim(fnFs, fnFs.filtN, fnRs, fnRs.filtN, maxN = 0, multithread = TRUE) "
   ]
  },
  {
   "cell_type": "code",
   "execution_count": null,
   "metadata": {},
   "outputs": [],
   "source": [
    "First, trim primers using cutadapt (in screen)\n",
    "for f in $(ls -1 *R1_001.fastq|sed 's/\\_R1_001.fastq//')\n",
    "do\n",
    "cutadapt -g file:KL_primers.fa -G file:KL_primers_rev.fa -o trimmed/\"$f\"_R1_001_trim.fastq -p trimmed/\"$f\"_R2_001_trim_pair.fastq \"$f\"_R1_001.fastq \"$f\"_R2_001.fastq --overlap 2 -e 0.1\n",
    "done\n",
    "\n"
   ]
  }
 ],
 "metadata": {
  "kernelspec": {
   "display_name": "R",
   "language": "R",
   "name": "ir"
  },
  "language_info": {
   "codemirror_mode": "r",
   "file_extension": ".r",
   "mimetype": "text/x-r-source",
   "name": "R",
   "pygments_lexer": "r",
   "version": "3.6.2"
  }
 },
 "nbformat": 4,
 "nbformat_minor": 4
}
